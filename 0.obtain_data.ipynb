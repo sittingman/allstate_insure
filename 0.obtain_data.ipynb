{
 "cells": [
  {
   "cell_type": "code",
   "execution_count": 1,
   "metadata": {},
   "outputs": [],
   "source": [
    "# !pip install kaggle"
   ]
  },
  {
   "cell_type": "code",
   "execution_count": 2,
   "metadata": {},
   "outputs": [],
   "source": [
    "import kaggle\n",
    "import os, zipfile"
   ]
  },
  {
   "cell_type": "code",
   "execution_count": 3,
   "metadata": {},
   "outputs": [
    {
     "name": "stdout",
     "output_type": "stream",
     "text": [
      "Downloading allstate-claims-severity.zip to C:\\Users\\sit_k\\Documents\\Python\\adv_reg\n",
      "\n"
     ]
    },
    {
     "name": "stderr",
     "output_type": "stream",
     "text": [
      "Error processing line 1 of C:\\Users\\sit_k\\AppData\\Local\\Continuum\\anaconda3\\lib\\site-packages\\matplotlib-3.1.3-py3.7-nspkg.pth:\n",
      "\n",
      "  Traceback (most recent call last):\n",
      "    File \"C:\\Users\\sit_k\\AppData\\Local\\Continuum\\anaconda3\\lib\\site.py\", line 168, in addpackage\n",
      "      exec(line)\n",
      "    File \"<string>\", line 1, in <module>\n",
      "    File \"<frozen importlib._bootstrap>\", line 580, in module_from_spec\n",
      "  AttributeError: 'NoneType' object has no attribute 'loader'\n",
      "\n",
      "Remainder of file ignored\n",
      "\n",
      "  0%|          | 0.00/48.8M [00:00<?, ?B/s]\n",
      "  2%|2         | 1.00M/48.8M [00:00<00:05, 9.02MB/s]\n",
      "  6%|6         | 3.00M/48.8M [00:00<00:05, 9.51MB/s]\n",
      " 10%|#         | 5.00M/48.8M [00:00<00:04, 9.92MB/s]\n",
      " 12%|#2        | 6.00M/48.8M [00:00<00:04, 9.36MB/s]\n",
      " 16%|#6        | 8.00M/48.8M [00:00<00:04, 9.78MB/s]\n",
      " 20%|##        | 10.0M/48.8M [00:01<00:04, 10.2MB/s]\n",
      " 25%|##4       | 12.0M/48.8M [00:01<00:03, 10.4MB/s]\n",
      " 29%|##8       | 14.0M/48.8M [00:01<00:03, 10.6MB/s]\n",
      " 33%|###2      | 16.0M/48.8M [00:01<00:03, 10.7MB/s]\n",
      " 35%|###4      | 17.0M/48.8M [00:01<00:03, 8.82MB/s]\n",
      " 39%|###8      | 19.0M/48.8M [00:01<00:03, 9.42MB/s]\n",
      " 43%|####3     | 21.0M/48.8M [00:02<00:02, 9.82MB/s]\n",
      " 47%|####7     | 23.0M/48.8M [00:02<00:02, 10.2MB/s]\n",
      " 51%|#####1    | 25.0M/48.8M [00:02<00:02, 10.4MB/s]\n",
      " 55%|#####5    | 27.0M/48.8M [00:02<00:02, 9.61MB/s]\n",
      " 59%|#####9    | 29.0M/48.8M [00:02<00:02, 10.1MB/s]\n",
      " 63%|######3   | 31.0M/48.8M [00:03<00:01, 10.4MB/s]\n",
      " 68%|######7   | 33.0M/48.8M [00:03<00:01, 10.5MB/s]\n",
      " 72%|#######1  | 35.0M/48.8M [00:03<00:01, 10.7MB/s]\n",
      " 76%|#######5  | 37.0M/48.8M [00:03<00:01, 9.68MB/s]\n",
      " 80%|#######9  | 39.0M/48.8M [00:03<00:01, 10.1MB/s]\n",
      " 84%|########3 | 41.0M/48.8M [00:04<00:00, 10.4MB/s]\n",
      " 88%|########8 | 43.0M/48.8M [00:04<00:00, 10.5MB/s]\n",
      " 92%|#########2| 45.0M/48.8M [00:04<00:00, 10.7MB/s]\n",
      " 96%|#########6| 47.0M/48.8M [00:04<00:00, 9.84MB/s]\n",
      "100%|##########| 48.8M/48.8M [00:04<00:00, 10.3MB/s]\n",
      "100%|##########| 48.8M/48.8M [00:04<00:00, 10.3MB/s]\n"
     ]
    }
   ],
   "source": [
    "!kaggle competitions download -c allstate-claims-severity\n",
    "# after this execution, move zip file into the data folder before executing next line"
   ]
  },
  {
   "cell_type": "code",
   "execution_count": 4,
   "metadata": {},
   "outputs": [],
   "source": [
    "pwd = os.getcwd()\n",
    "dir_name = pwd+'\\data\\\\'"
   ]
  },
  {
   "cell_type": "code",
   "execution_count": 5,
   "metadata": {},
   "outputs": [],
   "source": [
    "for item in os.listdir(pwd): # loop through items in dir\n",
    "    if item.endswith('.zip'): # check for \".zip\" extension\n",
    "        file_name = dir_name+item # get full path of files\n",
    "        zip_ref = zipfile.ZipFile(file_name) # create zipfile object\n",
    "        zip_ref.extractall(dir_name) # extract file to dir\n",
    "        zip_ref.close() # close file\n",
    "        os.remove(file_name) # delete zipped file"
   ]
  },
  {
   "cell_type": "code",
   "execution_count": null,
   "metadata": {},
   "outputs": [],
   "source": []
  }
 ],
 "metadata": {
  "kernelspec": {
   "display_name": "Python 3",
   "language": "python",
   "name": "python3"
  },
  "language_info": {
   "codemirror_mode": {
    "name": "ipython",
    "version": 3
   },
   "file_extension": ".py",
   "mimetype": "text/x-python",
   "name": "python",
   "nbconvert_exporter": "python",
   "pygments_lexer": "ipython3",
   "version": "3.7.1"
  }
 },
 "nbformat": 4,
 "nbformat_minor": 4
}
