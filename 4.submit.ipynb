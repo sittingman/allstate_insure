{
 "cells": [
  {
   "cell_type": "markdown",
   "metadata": {},
   "source": [
    "# Create Predictions for Kaggle submission"
   ]
  },
  {
   "cell_type": "code",
   "execution_count": 1,
   "metadata": {
    "execution": {
     "iopub.execute_input": "2020-07-28T02:23:09.108094Z",
     "iopub.status.busy": "2020-07-28T02:23:09.108094Z",
     "iopub.status.idle": "2020-07-28T02:23:13.817187Z",
     "shell.execute_reply": "2020-07-28T02:23:13.816532Z",
     "shell.execute_reply.started": "2020-07-28T02:23:09.108094Z"
    }
   },
   "outputs": [
    {
     "name": "stderr",
     "output_type": "stream",
     "text": [
      "C:\\Users\\sit_k\\AppData\\Local\\Continuum\\anaconda3\\lib\\site-packages\\statsmodels\\tools\\_testing.py:19: FutureWarning: pandas.util.testing is deprecated. Use the functions in the public API at pandas.testing instead.\n",
      "  import pandas.util.testing as tm\n"
     ]
    }
   ],
   "source": [
    "import matplotlib.pyplot as plt\n",
    "import numpy as np\n",
    "import pandas as pd\n",
    "import seaborn as sns\n",
    "from catboost import CatBoostRegressor\n",
    "from lightgbm import LGBMRegressor\n",
    "from sklearn.compose import TransformedTargetRegressor\n",
    "from sklearn.dummy import DummyRegressor\n",
    "from sklearn.linear_model import SGDRegressor\n",
    "from sklearn.metrics import mean_absolute_error\n",
    "from sklearn.model_selection import GridSearchCV, train_test_split\n",
    "from sklearn.preprocessing import LabelEncoder, PowerTransformer\n",
    "from xgboost.sklearn import XGBRegressor"
   ]
  },
  {
   "cell_type": "markdown",
   "metadata": {},
   "source": [
    "#### Get transformed training dataset"
   ]
  },
  {
   "cell_type": "code",
   "execution_count": 2,
   "metadata": {
    "execution": {
     "iopub.execute_input": "2020-07-28T02:23:13.818183Z",
     "iopub.status.busy": "2020-07-28T02:23:13.818183Z",
     "iopub.status.idle": "2020-07-28T02:23:14.694024Z",
     "shell.execute_reply": "2020-07-28T02:23:14.694024Z",
     "shell.execute_reply.started": "2020-07-28T02:23:13.818183Z"
    }
   },
   "outputs": [],
   "source": [
    "train = pd.read_csv('./data/features.csv', index_col=0)"
   ]
  },
  {
   "cell_type": "markdown",
   "metadata": {
    "execution": {
     "iopub.execute_input": "2020-07-24T05:04:21.311659Z",
     "iopub.status.busy": "2020-07-24T05:04:21.311659Z",
     "iopub.status.idle": "2020-07-24T05:04:21.316672Z",
     "shell.execute_reply": "2020-07-24T05:04:21.316672Z",
     "shell.execute_reply.started": "2020-07-24T05:04:21.311659Z"
    }
   },
   "source": [
    "### Transform Test Data\n",
    "\n",
    "Before making predictions on the test data, we need to apply the same transformation steps as the train dataset. Overall, there are three steps\n",
    "1. Drop continuous variables of 'cont9', 'cont10', 'cont12', 'cont13'\n",
    "2. Apply One Hot Encoding to the category variables,\n",
    "3. Slice the feature columns that were picked in the LassCV, RFE, and RFECV steps"
   ]
  },
  {
   "cell_type": "code",
   "execution_count": 3,
   "metadata": {
    "execution": {
     "iopub.execute_input": "2020-07-28T02:23:14.695021Z",
     "iopub.status.busy": "2020-07-28T02:23:14.695021Z",
     "iopub.status.idle": "2020-07-28T02:23:15.836460Z",
     "shell.execute_reply": "2020-07-28T02:23:15.836296Z",
     "shell.execute_reply.started": "2020-07-28T02:23:14.695021Z"
    }
   },
   "outputs": [],
   "source": [
    "test = pd.read_csv('./data/test.csv', index_col=0)\n",
    "test_df = test.drop(['cont9', 'cont10', 'cont12', 'cont13'], axis=1)"
   ]
  },
  {
   "cell_type": "code",
   "execution_count": 4,
   "metadata": {
    "execution": {
     "iopub.execute_input": "2020-07-28T02:23:15.838570Z",
     "iopub.status.busy": "2020-07-28T02:23:15.838570Z",
     "iopub.status.idle": "2020-07-28T02:23:15.938326Z",
     "shell.execute_reply": "2020-07-28T02:23:15.938326Z",
     "shell.execute_reply.started": "2020-07-28T02:23:15.838570Z"
    }
   },
   "outputs": [],
   "source": [
    "cat_test = test_df.select_dtypes(include=['O'])\n",
    "con_test = test_df.select_dtypes(include=['float'])"
   ]
  },
  {
   "cell_type": "code",
   "execution_count": 5,
   "metadata": {
    "execution": {
     "iopub.execute_input": "2020-07-28T02:23:15.939300Z",
     "iopub.status.busy": "2020-07-28T02:23:15.939300Z",
     "iopub.status.idle": "2020-07-28T02:23:17.261299Z",
     "shell.execute_reply": "2020-07-28T02:23:17.261299Z",
     "shell.execute_reply.started": "2020-07-28T02:23:15.939300Z"
    }
   },
   "outputs": [],
   "source": [
    "cat_encoded_test = pd.get_dummies(\n",
    "    cat_test, drop_first=True, prefix=cat_test.columns)\n",
    "encoded_test = pd.merge(cat_encoded_test, con_test, left_index=True,\n",
    "                        right_index=True, how='inner')\n",
    "final_test = encoded_test.loc[:, train.columns[:-1]]"
   ]
  },
  {
   "cell_type": "code",
   "execution_count": 6,
   "metadata": {
    "execution": {
     "iopub.execute_input": "2020-07-28T02:23:17.262273Z",
     "iopub.status.busy": "2020-07-28T02:23:17.262273Z",
     "iopub.status.idle": "2020-07-28T02:23:17.328090Z",
     "shell.execute_reply": "2020-07-28T02:23:17.328090Z",
     "shell.execute_reply.started": "2020-07-28T02:23:17.262273Z"
    }
   },
   "outputs": [],
   "source": [
    "feature = train.drop(['loss'], axis=1)\n",
    "target = train['loss']"
   ]
  },
  {
   "cell_type": "code",
   "execution_count": 7,
   "metadata": {
    "execution": {
     "iopub.execute_input": "2020-07-28T02:23:17.329087Z",
     "iopub.status.busy": "2020-07-28T02:23:17.329087Z",
     "iopub.status.idle": "2020-07-28T02:23:17.750368Z",
     "shell.execute_reply": "2020-07-28T02:23:17.750368Z",
     "shell.execute_reply.started": "2020-07-28T02:23:17.329087Z"
    }
   },
   "outputs": [],
   "source": [
    "p_trans = PowerTransformer()\n",
    "\n",
    "train['loss_transform'] = p_trans.fit_transform(train[['loss']])\n",
    "\n",
    "target_t = train['loss_transform']"
   ]
  },
  {
   "cell_type": "markdown",
   "metadata": {},
   "source": [
    "#### Base model (no tuning)"
   ]
  },
  {
   "cell_type": "code",
   "execution_count": 8,
   "metadata": {
    "execution": {
     "iopub.execute_input": "2020-07-28T02:23:17.751293Z",
     "iopub.status.busy": "2020-07-28T02:23:17.751293Z",
     "iopub.status.idle": "2020-07-28T02:23:17.756936Z",
     "shell.execute_reply": "2020-07-28T02:23:17.756302Z",
     "shell.execute_reply.started": "2020-07-28T02:23:17.751293Z"
    }
   },
   "outputs": [],
   "source": [
    "def loss_submit(name, reg, X, y, test):\n",
    "    \"\"\"Initiate model, transform target, and create dataframe and csv for kaggle submission,\n",
    "    create distribution plot for the predicted values\n",
    "\n",
    "\n",
    "    Args:\n",
    "        name: name to label csv file with predictions\n",
    "        reg: regressors\n",
    "        X: train dataset\n",
    "        y: target dataset\n",
    "        test: test dataset\n",
    "\n",
    "    Returns:\n",
    "        csv file with predictions for kaggle submission\n",
    "        distplot on the predicted loss\n",
    "    \"\"\"\n",
    "    mod = TransformedTargetRegressor(\n",
    "        regressor=reg, transformer=PowerTransformer())\n",
    "    reg = mod.fit(X, y)\n",
    "    pred = reg.predict(test)\n",
    "    df = pd.DataFrame({'loss': pred})\n",
    "    df.index = test.index\n",
    "    df.to_csv('./data/'+name+'.csv', index=True)\n",
    "    sns.distplot(pred)\n",
    "    plt.xlabel('predicted loss')\n",
    "    plt.title('loss value predictions distribution by {}'.format(name))"
   ]
  },
  {
   "cell_type": "markdown",
   "metadata": {},
   "source": [
    "##### Dummy and SGDRegression"
   ]
  },
  {
   "cell_type": "code",
   "execution_count": 9,
   "metadata": {
    "execution": {
     "iopub.execute_input": "2020-07-28T02:23:17.758928Z",
     "iopub.status.busy": "2020-07-28T02:23:17.758928Z",
     "iopub.status.idle": "2020-07-28T02:23:18.702086Z",
     "shell.execute_reply": "2020-07-28T02:23:18.702086Z",
     "shell.execute_reply.started": "2020-07-28T02:23:17.758928Z"
    }
   },
   "outputs": [
    {
     "name": "stderr",
     "output_type": "stream",
     "text": [
      "C:\\Users\\sit_k\\AppData\\Local\\Continuum\\anaconda3\\lib\\site-packages\\statsmodels\\nonparametric\\kde.py:487: RuntimeWarning: invalid value encountered in true_divide\n",
      "  binned = fast_linbin(X, a, b, gridsize) / (delta * nobs)\n",
      "C:\\Users\\sit_k\\AppData\\Local\\Continuum\\anaconda3\\lib\\site-packages\\statsmodels\\nonparametric\\kdetools.py:34: RuntimeWarning: invalid value encountered in double_scalars\n",
      "  FAC1 = 2*(np.pi*bw/RANGE)**2\n"
     ]
    },
    {
     "data": {
      "image/png": "[encoded data removed]",
      "text/plain": [
       "<Figure size 432x288 with 1 Axes>"
      ]
     },
     "metadata": {
      "needs_background": "light"
     },
     "output_type": "display_data"
    }
   ],
   "source": [
    "loss_submit('dummy', DummyRegressor(), feature, target, final_test)"
   ]
  },
  {
   "cell_type": "code",
   "execution_count": 10,
   "metadata": {
    "execution": {
     "iopub.execute_input": "2020-07-28T02:23:18.704046Z",
     "iopub.status.busy": "2020-07-28T02:23:18.703050Z",
     "iopub.status.idle": "2020-07-28T02:23:20.322462Z",
     "shell.execute_reply": "2020-07-28T02:23:20.322462Z",
     "shell.execute_reply.started": "2020-07-28T02:23:18.703050Z"
    }
   },
   "outputs": [
    {
     "data": {
      "image/png": "[encoded data removed]",
      "text/plain": [
       "<Figure size 432x288 with 1 Axes>"
      ]
     },
     "metadata": {
      "needs_background": "light"
     },
     "output_type": "display_data"
    }
   ],
   "source": [
    "loss_submit('SGD', SGDRegressor(), feature, target, final_test)"
   ]
  },
  {
   "cell_type": "markdown",
   "metadata": {},
   "source": [
    "##### LightGbm"
   ]
  },
  {
   "cell_type": "code",
   "execution_count": 11,
   "metadata": {
    "execution": {
     "iopub.execute_input": "2020-07-28T02:23:20.323460Z",
     "iopub.status.busy": "2020-07-28T02:23:20.323460Z",
     "iopub.status.idle": "2020-07-28T02:23:24.452385Z",
     "shell.execute_reply": "2020-07-28T02:23:24.452385Z",
     "shell.execute_reply.started": "2020-07-28T02:23:20.323460Z"
    }
   },
   "outputs": [
    {
     "data": {
      "image/png": "[encoded data removed]",
      "text/plain": [
       "<Figure size 432x288 with 1 Axes>"
      ]
     },
     "metadata": {
      "needs_background": "light"
     },
     "output_type": "display_data"
    }
   ],
   "source": [
    "loss_submit('lightbgm', LGBMRegressor(), feature, target, final_test)"
   ]
  },
  {
   "cell_type": "markdown",
   "metadata": {},
   "source": [
    "##### Xgboost "
   ]
  },
  {
   "cell_type": "code",
   "execution_count": 12,
   "metadata": {
    "execution": {
     "iopub.execute_input": "2020-07-28T02:23:24.453356Z",
     "iopub.status.busy": "2020-07-28T02:23:24.453356Z",
     "iopub.status.idle": "2020-07-28T02:23:54.779244Z",
     "shell.execute_reply": "2020-07-28T02:23:54.779244Z",
     "shell.execute_reply.started": "2020-07-28T02:23:24.453356Z"
    }
   },
   "outputs": [
    {
     "name": "stdout",
     "output_type": "stream",
     "text": [
      "[19:23:25] WARNING: src/objective/regression_obj.cu:152: reg:linear is now deprecated in favor of reg:squarederror.\n"
     ]
    },
    {
     "data": {
      "image/png": "[encoded data removed]",
      "text/plain": [
       "<Figure size 432x288 with 1 Axes>"
      ]
     },
     "metadata": {
      "needs_background": "light"
     },
     "output_type": "display_data"
    }
   ],
   "source": [
    "loss_submit('xgboost', XGBRegressor(), feature, target, final_test)"
   ]
  },
  {
   "cell_type": "markdown",
   "metadata": {},
   "source": [
    "##### Catboost\n",
    "\n",
    "Given the special properties of the algorithm, both train and test datasets will need a different transformation"
   ]
  },
  {
   "cell_type": "code",
   "execution_count": 13,
   "metadata": {
    "execution": {
     "iopub.execute_input": "2020-07-28T02:23:54.780210Z",
     "iopub.status.busy": "2020-07-28T02:23:54.780210Z",
     "iopub.status.idle": "2020-07-28T02:23:54.783234Z",
     "shell.execute_reply": "2020-07-28T02:23:54.783234Z",
     "shell.execute_reply.started": "2020-07-28T02:23:54.780210Z"
    }
   },
   "outputs": [],
   "source": [
    "le = LabelEncoder()"
   ]
  },
  {
   "cell_type": "code",
   "execution_count": 14,
   "metadata": {
    "execution": {
     "iopub.execute_input": "2020-07-28T02:23:54.784200Z",
     "iopub.status.busy": "2020-07-28T02:23:54.784200Z",
     "iopub.status.idle": "2020-07-28T02:23:56.816841Z",
     "shell.execute_reply": "2020-07-28T02:23:56.816841Z",
     "shell.execute_reply.started": "2020-07-28T02:23:54.784200Z"
    }
   },
   "outputs": [],
   "source": [
    "ori_train = pd.read_csv('./data/train.csv', index_col=0)\n",
    "cat_train = ori_train.drop(\n",
    "    ['cont9', 'cont10', 'cont12', 'cont13', 'loss'], axis=1)"
   ]
  },
  {
   "cell_type": "code",
   "execution_count": 15,
   "metadata": {
    "execution": {
     "iopub.execute_input": "2020-07-28T02:23:56.817765Z",
     "iopub.status.busy": "2020-07-28T02:23:56.817765Z",
     "iopub.status.idle": "2020-07-28T02:23:56.822753Z",
     "shell.execute_reply": "2020-07-28T02:23:56.822067Z",
     "shell.execute_reply.started": "2020-07-28T02:23:56.817765Z"
    }
   },
   "outputs": [],
   "source": [
    "cat_train['type'] = 'train'"
   ]
  },
  {
   "cell_type": "code",
   "execution_count": 16,
   "metadata": {
    "execution": {
     "iopub.execute_input": "2020-07-28T02:23:56.822753Z",
     "iopub.status.busy": "2020-07-28T02:23:56.822753Z",
     "iopub.status.idle": "2020-07-28T02:23:56.831728Z",
     "shell.execute_reply": "2020-07-28T02:23:56.830732Z",
     "shell.execute_reply.started": "2020-07-28T02:23:56.822753Z"
    }
   },
   "outputs": [],
   "source": [
    "test_df['type'] = 'test'"
   ]
  },
  {
   "cell_type": "code",
   "execution_count": 17,
   "metadata": {
    "execution": {
     "iopub.execute_input": "2020-07-28T02:23:56.832726Z",
     "iopub.status.busy": "2020-07-28T02:23:56.832726Z",
     "iopub.status.idle": "2020-07-28T02:23:57.748401Z",
     "shell.execute_reply": "2020-07-28T02:23:57.747367Z",
     "shell.execute_reply.started": "2020-07-28T02:23:56.832726Z"
    }
   },
   "outputs": [],
   "source": [
    "consol = cat_train.append(test_df)"
   ]
  },
  {
   "cell_type": "code",
   "execution_count": 18,
   "metadata": {
    "execution": {
     "iopub.execute_input": "2020-07-28T02:23:57.749356Z",
     "iopub.status.busy": "2020-07-28T02:23:57.749356Z",
     "iopub.status.idle": "2020-07-28T02:24:03.546552Z",
     "shell.execute_reply": "2020-07-28T02:24:03.546552Z",
     "shell.execute_reply.started": "2020-07-28T02:23:57.749356Z"
    }
   },
   "outputs": [],
   "source": [
    "consol_code = consol.apply(le.fit_transform)"
   ]
  },
  {
   "cell_type": "code",
   "execution_count": 19,
   "metadata": {
    "execution": {
     "iopub.execute_input": "2020-07-28T02:24:03.547520Z",
     "iopub.status.busy": "2020-07-28T02:24:03.547520Z",
     "iopub.status.idle": "2020-07-28T02:24:03.678963Z",
     "shell.execute_reply": "2020-07-28T02:24:03.678559Z",
     "shell.execute_reply.started": "2020-07-28T02:24:03.547520Z"
    }
   },
   "outputs": [],
   "source": [
    "train_cat_df = consol_code.query('type==1')\n",
    "test_cat_df = consol_code.query('type==0')"
   ]
  },
  {
   "cell_type": "code",
   "execution_count": 20,
   "metadata": {
    "execution": {
     "iopub.execute_input": "2020-07-28T02:24:03.678963Z",
     "iopub.status.busy": "2020-07-28T02:24:03.678963Z",
     "iopub.status.idle": "2020-07-28T02:24:39.588565Z",
     "shell.execute_reply": "2020-07-28T02:24:39.588565Z",
     "shell.execute_reply.started": "2020-07-28T02:24:03.678963Z"
    }
   },
   "outputs": [
    {
     "data": {
      "image/png": "[encoded data removed]",
      "text/plain": [
       "<Figure size 432x288 with 1 Axes>"
      ]
     },
     "metadata": {
      "needs_background": "light"
     },
     "output_type": "display_data"
    }
   ],
   "source": [
    "loss_submit('catboost', CatBoostRegressor(verbose=0),\n",
    "            train_cat_df, target, test_cat_df)"
   ]
  },
  {
   "cell_type": "markdown",
   "metadata": {},
   "source": [
    "### Models Tuning\n",
    "\n",
    "Applying Grid search could easily lead to long processing time, hence extract 20% of the training data for tuning purposes."
   ]
  },
  {
   "cell_type": "code",
   "execution_count": 21,
   "metadata": {
    "execution": {
     "iopub.execute_input": "2020-07-28T02:24:39.589562Z",
     "iopub.status.busy": "2020-07-28T02:24:39.589562Z",
     "iopub.status.idle": "2020-07-28T02:24:39.665518Z",
     "shell.execute_reply": "2020-07-28T02:24:39.665518Z",
     "shell.execute_reply.started": "2020-07-28T02:24:39.589562Z"
    }
   },
   "outputs": [],
   "source": [
    "sample_feature = feature.sample(frac=.2, random_state=10)\n",
    "sample_target = target_t.loc[sample_feature.index.tolist()]"
   ]
  },
  {
   "cell_type": "code",
   "execution_count": 22,
   "metadata": {
    "execution": {
     "iopub.execute_input": "2020-07-28T02:24:39.666356Z",
     "iopub.status.busy": "2020-07-28T02:24:39.666356Z",
     "iopub.status.idle": "2020-07-28T02:24:39.670346Z",
     "shell.execute_reply": "2020-07-28T02:24:39.670346Z",
     "shell.execute_reply.started": "2020-07-28T02:24:39.666356Z"
    }
   },
   "outputs": [
    {
     "name": "stdout",
     "output_type": "stream",
     "text": [
      "(37664, 112) (37664,)\n"
     ]
    }
   ],
   "source": [
    "print(sample_feature.shape, sample_target.shape)"
   ]
  },
  {
   "cell_type": "code",
   "execution_count": 23,
   "metadata": {
    "execution": {
     "iopub.execute_input": "2020-07-28T02:24:39.671343Z",
     "iopub.status.busy": "2020-07-28T02:24:39.671343Z",
     "iopub.status.idle": "2020-07-28T02:24:39.688299Z",
     "shell.execute_reply": "2020-07-28T02:24:39.688299Z",
     "shell.execute_reply.started": "2020-07-28T02:24:39.671343Z"
    }
   },
   "outputs": [],
   "source": [
    "# create empty dictionary to hold best parameters post tunning\n",
    "sgd_tune = {}\n",
    "lgb_tune = {}\n",
    "xgb_tune = {}\n",
    "cat_tune = {}"
   ]
  },
  {
   "cell_type": "code",
   "execution_count": 30,
   "metadata": {
    "execution": {
     "iopub.execute_input": "2020-07-28T02:25:33.394915Z",
     "iopub.status.busy": "2020-07-28T02:25:33.393917Z",
     "iopub.status.idle": "2020-07-28T02:25:33.397942Z",
     "shell.execute_reply": "2020-07-28T02:25:33.397942Z",
     "shell.execute_reply.started": "2020-07-28T02:25:33.394915Z"
    }
   },
   "outputs": [],
   "source": [
    "def fine_tune_model(dict_param, reg, params, s_train, s_test):\n",
    "    clss = GridSearchCV(estimator=reg,\n",
    "                        param_grid=params,\n",
    "                        scoring='neg_mean_absolute_error',\n",
    "                        n_jobs=2,\n",
    "                        cv=2,\n",
    "                        refit=False,\n",
    "                        return_train_score=True)\n",
    "    clss.fit(s_train, s_test)\n",
    "    dict_param.update(clss.best_params_)"
   ]
  },
  {
   "cell_type": "markdown",
   "metadata": {},
   "source": [
    "##### SGDRegression"
   ]
  },
  {
   "cell_type": "code",
   "execution_count": 31,
   "metadata": {
    "execution": {
     "iopub.execute_input": "2020-07-28T02:25:34.290309Z",
     "iopub.status.busy": "2020-07-28T02:25:34.290309Z",
     "iopub.status.idle": "2020-07-28T02:25:34.296293Z",
     "shell.execute_reply": "2020-07-28T02:25:34.295295Z",
     "shell.execute_reply.started": "2020-07-28T02:25:34.290309Z"
    }
   },
   "outputs": [],
   "source": [
    "sgd_params = {'loss': ['squared_loss', 'huber', 'epsilon_insensitive', 'squared_epsilon_insensitive'],\n",
    "              'alpha': [.0001, .001, .01, .1],\n",
    "              'learning_rate': ['constant', 'optimal', 'invscaling', 'adaptive']}"
   ]
  },
  {
   "cell_type": "code",
   "execution_count": 32,
   "metadata": {
    "execution": {
     "iopub.execute_input": "2020-07-28T02:25:34.584016Z",
     "iopub.status.busy": "2020-07-28T02:25:34.584016Z",
     "iopub.status.idle": "2020-07-28T02:26:38.902712Z",
     "shell.execute_reply": "2020-07-28T02:26:38.900750Z",
     "shell.execute_reply.started": "2020-07-28T02:25:34.584016Z"
    }
   },
   "outputs": [
    {
     "data": {
      "text/plain": [
       "{'alpha': 0.001, 'learning_rate': 'adaptive', 'loss': 'epsilon_insensitive'}"
      ]
     },
     "execution_count": 32,
     "metadata": {},
     "output_type": "execute_result"
    }
   ],
   "source": [
    "fine_tune_model(sgd_tune, SGDRegressor(), sgd_params,\n",
    "                sample_feature, sample_target)\n",
    "\n",
    "sgd_tune"
   ]
  },
  {
   "cell_type": "code",
   "execution_count": 33,
   "metadata": {
    "execution": {
     "iopub.execute_input": "2020-07-28T02:28:12.832469Z",
     "iopub.status.busy": "2020-07-28T02:28:12.832469Z",
     "iopub.status.idle": "2020-07-28T02:28:16.380103Z",
     "shell.execute_reply": "2020-07-28T02:28:16.380103Z",
     "shell.execute_reply.started": "2020-07-28T02:28:12.832469Z"
    }
   },
   "outputs": [
    {
     "data": {
      "image/png": "[encoded data removed]",
      "text/plain": [
       "<Figure size 432x288 with 1 Axes>"
      ]
     },
     "metadata": {
      "needs_background": "light"
     },
     "output_type": "display_data"
    }
   ],
   "source": [
    "loss_submit('sgbtune', SGDRegressor(**sgd_tune), feature, target, final_test)"
   ]
  },
  {
   "cell_type": "markdown",
   "metadata": {},
   "source": [
    "##### Lightgbm"
   ]
  },
  {
   "cell_type": "code",
   "execution_count": 34,
   "metadata": {
    "execution": {
     "iopub.execute_input": "2020-07-28T02:28:24.870694Z",
     "iopub.status.busy": "2020-07-28T02:28:24.870694Z",
     "iopub.status.idle": "2020-07-28T02:28:24.873656Z",
     "shell.execute_reply": "2020-07-28T02:28:24.873126Z",
     "shell.execute_reply.started": "2020-07-28T02:28:24.870694Z"
    }
   },
   "outputs": [],
   "source": [
    "lgbm_params = {'learning_rate': [0.05, 0.1, 0.2], 'n_estimators': [\n",
    "    750, 1000, 1200], 'max_depth': [3, 6, 9]}"
   ]
  },
  {
   "cell_type": "code",
   "execution_count": 35,
   "metadata": {
    "execution": {
     "iopub.execute_input": "2020-07-28T02:28:25.117407Z",
     "iopub.status.busy": "2020-07-28T02:28:25.116410Z",
     "iopub.status.idle": "2020-07-28T02:30:29.342822Z",
     "shell.execute_reply": "2020-07-28T02:30:29.341825Z",
     "shell.execute_reply.started": "2020-07-28T02:28:25.117407Z"
    }
   },
   "outputs": [
    {
     "data": {
      "text/plain": [
       "{'learning_rate': 0.05, 'max_depth': 3, 'n_estimators': 1200}"
      ]
     },
     "execution_count": 35,
     "metadata": {},
     "output_type": "execute_result"
    }
   ],
   "source": [
    "fine_tune_model(lgb_tune, LGBMRegressor(), lgbm_params,\n",
    "                sample_feature, sample_target)\n",
    "\n",
    "lgb_tune"
   ]
  },
  {
   "cell_type": "code",
   "execution_count": 36,
   "metadata": {
    "execution": {
     "iopub.execute_input": "2020-07-28T02:30:35.832554Z",
     "iopub.status.busy": "2020-07-28T02:30:35.832554Z",
     "iopub.status.idle": "2020-07-28T02:30:49.688594Z",
     "shell.execute_reply": "2020-07-28T02:30:49.688594Z",
     "shell.execute_reply.started": "2020-07-28T02:30:35.832554Z"
    }
   },
   "outputs": [
    {
     "data": {
      "image/png": "[encoded data removed]",
      "text/plain": [
       "<Figure size 432x288 with 1 Axes>"
      ]
     },
     "metadata": {
      "needs_background": "light"
     },
     "output_type": "display_data"
    }
   ],
   "source": [
    "loss_submit('lgbtune', LGBMRegressor(**lgb_tune), feature, target, final_test)"
   ]
  },
  {
   "cell_type": "markdown",
   "metadata": {},
   "source": [
    "##### Xgboost"
   ]
  },
  {
   "cell_type": "code",
   "execution_count": 37,
   "metadata": {
    "execution": {
     "iopub.execute_input": "2020-07-28T02:30:49.690589Z",
     "iopub.status.busy": "2020-07-28T02:30:49.689590Z",
     "iopub.status.idle": "2020-07-28T02:30:49.694576Z",
     "shell.execute_reply": "2020-07-28T02:30:49.694576Z",
     "shell.execute_reply.started": "2020-07-28T02:30:49.690589Z"
    }
   },
   "outputs": [],
   "source": [
    "xgb_params = {'learning_rate': [0.1, 0.2, 0.3],\n",
    "              'n_estimators': [100, 300, 500],\n",
    "              'max_depth': [5, 8, 10]}"
   ]
  },
  {
   "cell_type": "code",
   "execution_count": 38,
   "metadata": {
    "execution": {
     "iopub.execute_input": "2020-07-28T02:31:05.970865Z",
     "iopub.status.busy": "2020-07-28T02:31:05.970865Z",
     "iopub.status.idle": "2020-07-28T02:43:42.335265Z",
     "shell.execute_reply": "2020-07-28T02:43:42.333321Z",
     "shell.execute_reply.started": "2020-07-28T02:31:05.970865Z"
    }
   },
   "outputs": [
    {
     "data": {
      "text/plain": [
       "{'learning_rate': 0.1, 'max_depth': 5, 'n_estimators': 300}"
      ]
     },
     "execution_count": 38,
     "metadata": {},
     "output_type": "execute_result"
    }
   ],
   "source": [
    "fine_tune_model(xgb_tune, XGBRegressor(objective='reg:squarederror'),\n",
    "                xgb_params, sample_feature, sample_target)\n",
    "xgb_tune"
   ]
  },
  {
   "cell_type": "code",
   "execution_count": 40,
   "metadata": {
    "execution": {
     "iopub.execute_input": "2020-07-28T02:59:56.962167Z",
     "iopub.status.busy": "2020-07-28T02:59:56.962167Z",
     "iopub.status.idle": "2020-07-28T03:02:14.962468Z",
     "shell.execute_reply": "2020-07-28T03:02:14.962468Z",
     "shell.execute_reply.started": "2020-07-28T02:59:56.962167Z"
    }
   },
   "outputs": [
    {
     "data": {
      "image/png": "[encoded data removed]",
      "text/plain": [
       "<Figure size 432x288 with 1 Axes>"
      ]
     },
     "metadata": {
      "needs_background": "light"
     },
     "output_type": "display_data"
    }
   ],
   "source": [
    "loss_submit('xgbtune', XGBRegressor(\n",
    "    **xgb_tune, objective='reg:squarederror'), feature, target, final_test)"
   ]
  },
  {
   "cell_type": "markdown",
   "metadata": {},
   "source": [
    "##### Catboost\n",
    "\n",
    "Due to the long processing time, we apply the grid_search function within the Catboost package instead of using the defined function."
   ]
  },
  {
   "cell_type": "code",
   "execution_count": 41,
   "metadata": {
    "execution": {
     "iopub.execute_input": "2020-07-28T03:02:14.963434Z",
     "iopub.status.busy": "2020-07-28T03:02:14.963434Z",
     "iopub.status.idle": "2020-07-28T03:02:14.967423Z",
     "shell.execute_reply": "2020-07-28T03:02:14.967423Z",
     "shell.execute_reply.started": "2020-07-28T03:02:14.963434Z"
    }
   },
   "outputs": [],
   "source": [
    "cat_params = {'depth': [6, 9, 12],\n",
    "              'learning_rate': [0.1, 0.3, 0.5],\n",
    "              'l2_leaf_reg': [1, 5, 10]}"
   ]
  },
  {
   "cell_type": "code",
   "execution_count": 42,
   "metadata": {
    "execution": {
     "iopub.execute_input": "2020-07-28T03:02:14.969418Z",
     "iopub.status.busy": "2020-07-28T03:02:14.968420Z",
     "iopub.status.idle": "2020-07-28T03:02:14.973434Z",
     "shell.execute_reply": "2020-07-28T03:02:14.973434Z",
     "shell.execute_reply.started": "2020-07-28T03:02:14.969418Z"
    }
   },
   "outputs": [],
   "source": [
    "model = CatBoostRegressor(verbose=0)"
   ]
  },
  {
   "cell_type": "code",
   "execution_count": 43,
   "metadata": {
    "execution": {
     "iopub.execute_input": "2020-07-28T03:02:14.974404Z",
     "iopub.status.busy": "2020-07-28T03:02:14.974404Z",
     "iopub.status.idle": "2020-07-28T03:52:13.402071Z",
     "shell.execute_reply": "2020-07-28T03:52:13.401074Z",
     "shell.execute_reply.started": "2020-07-28T03:02:14.974404Z"
    }
   },
   "outputs": [
    {
     "name": "stdout",
     "output_type": "stream",
     "text": [
      "0:\tloss: 0.6762680\tbest: 0.6762680 (0)\ttotal: 14.7s\tremaining: 6m 22s\n",
      "1:\tloss: 0.6805776\tbest: 0.6762680 (0)\ttotal: 28.6s\tremaining: 5m 57s\n",
      "2:\tloss: 0.6847022\tbest: 0.6762680 (0)\ttotal: 46.3s\tremaining: 6m 10s\n",
      "3:\tloss: 0.6753281\tbest: 0.6753281 (3)\ttotal: 1m\tremaining: 5m 48s\n",
      "4:\tloss: 0.6797223\tbest: 0.6753281 (3)\ttotal: 1m 14s\tremaining: 5m 28s\n",
      "5:\tloss: 0.6828131\tbest: 0.6753281 (3)\ttotal: 1m 28s\tremaining: 5m 9s\n",
      "6:\tloss: 0.6754134\tbest: 0.6753281 (3)\ttotal: 1m 42s\tremaining: 4m 52s\n",
      "7:\tloss: 0.6790338\tbest: 0.6753281 (3)\ttotal: 1m 56s\tremaining: 4m 35s\n",
      "8:\tloss: 0.6821229\tbest: 0.6753281 (3)\ttotal: 2m 9s\tremaining: 4m 19s\n",
      "9:\tloss: 0.6767792\tbest: 0.6753281 (3)\ttotal: 2m 49s\tremaining: 4m 48s\n",
      "10:\tloss: 0.6841614\tbest: 0.6753281 (3)\ttotal: 3m 30s\tremaining: 5m 6s\n",
      "11:\tloss: 0.6926752\tbest: 0.6753281 (3)\ttotal: 4m 11s\tremaining: 5m 14s\n",
      "12:\tloss: 0.6770576\tbest: 0.6753281 (3)\ttotal: 4m 52s\tremaining: 5m 15s\n",
      "13:\tloss: 0.6825738\tbest: 0.6753281 (3)\ttotal: 5m 34s\tremaining: 5m 10s\n",
      "14:\tloss: 0.6891603\tbest: 0.6753281 (3)\ttotal: 6m 19s\tremaining: 5m 3s\n",
      "15:\tloss: 0.6760247\tbest: 0.6753281 (3)\ttotal: 7m 2s\tremaining: 4m 50s\n",
      "16:\tloss: 0.6810400\tbest: 0.6753281 (3)\ttotal: 7m 43s\tremaining: 4m 32s\n",
      "17:\tloss: 0.6874913\tbest: 0.6753281 (3)\ttotal: 8m 26s\tremaining: 4m 13s\n",
      "18:\tloss: 0.6836113\tbest: 0.6753281 (3)\ttotal: 12m 33s\tremaining: 5m 17s\n",
      "19:\tloss: 0.6951558\tbest: 0.6753281 (3)\ttotal: 16m 42s\tremaining: 5m 50s\n",
      "20:\tloss: 0.7055194\tbest: 0.6753281 (3)\ttotal: 20m 50s\tremaining: 5m 57s\n",
      "21:\tloss: 0.6812449\tbest: 0.6753281 (3)\ttotal: 25m 3s\tremaining: 5m 41s\n",
      "22:\tloss: 0.6895117\tbest: 0.6753281 (3)\ttotal: 29m 20s\tremaining: 5m 6s\n",
      "23:\tloss: 0.6971696\tbest: 0.6753281 (3)\ttotal: 34m 4s\tremaining: 4m 15s\n",
      "24:\tloss: 0.6799196\tbest: 0.6753281 (3)\ttotal: 38m 54s\tremaining: 3m 6s\n",
      "25:\tloss: 0.6870546\tbest: 0.6753281 (3)\ttotal: 43m 32s\tremaining: 1m 40s\n",
      "26:\tloss: 0.6953023\tbest: 0.6753281 (3)\ttotal: 48m\tremaining: 0us\n",
      "Estimating final quality...\n"
     ]
    }
   ],
   "source": [
    "result = model.grid_search(cat_params, train_cat_df, y=target_t, train_size=.2,\n",
    "                           verbose=True, refit=False, cv=2)"
   ]
  },
  {
   "cell_type": "code",
   "execution_count": 37,
   "metadata": {
    "execution": {
     "iopub.execute_input": "2020-07-27T06:28:06.948055Z",
     "iopub.status.busy": "2020-07-27T06:28:06.947058Z",
     "iopub.status.idle": "2020-07-27T06:28:06.953043Z",
     "shell.execute_reply": "2020-07-27T06:28:06.953043Z",
     "shell.execute_reply.started": "2020-07-27T06:28:06.948055Z"
    }
   },
   "outputs": [
    {
     "data": {
      "text/plain": [
       "{'depth': 6, 'l2_leaf_reg': 5, 'learning_rate': 0.1}"
      ]
     },
     "execution_count": 37,
     "metadata": {},
     "output_type": "execute_result"
    }
   ],
   "source": [
    "cat_tune = result['params']\n",
    "cat_tune"
   ]
  },
  {
   "cell_type": "code",
   "execution_count": 38,
   "metadata": {
    "execution": {
     "iopub.execute_input": "2020-07-27T06:28:06.955038Z",
     "iopub.status.busy": "2020-07-27T06:28:06.954039Z",
     "iopub.status.idle": "2020-07-27T06:28:50.231095Z",
     "shell.execute_reply": "2020-07-27T06:28:50.231095Z",
     "shell.execute_reply.started": "2020-07-27T06:28:06.955038Z"
    }
   },
   "outputs": [
    {
     "data": {
      "image/png": "[encoded data removed]",
      "text/plain": [
       "<Figure size 432x288 with 1 Axes>"
      ]
     },
     "metadata": {
      "needs_background": "light"
     },
     "output_type": "display_data"
    }
   ],
   "source": [
    "loss_submit('cattune', CatBoostRegressor(**cat_tune, iterations=1200, verbose=0),\n",
    "            train_cat_df, target, test_cat_df)"
   ]
  },
  {
   "cell_type": "markdown",
   "metadata": {
    "execution": {
     "iopub.execute_input": "2020-07-24T05:42:49.766840Z",
     "iopub.status.busy": "2020-07-24T05:42:49.766840Z",
     "iopub.status.idle": "2020-07-24T05:42:49.770824Z",
     "shell.execute_reply": "2020-07-24T05:42:49.770824Z",
     "shell.execute_reply.started": "2020-07-24T05:42:49.766840Z"
    }
   },
   "source": [
    "| Model | MAE | Time |\n",
    "| - | - | - |\n",
    "|Dummy | 1783 | 1s |\n",
    "|SGD Regression | 1267 | 1.6s |\n",
    "|SGD Regression (tuned) | 1266 | 3.6s |\n",
    "|Lightgbm (no tuning)| 1145 | 4s |\n",
    "|Lightgbm (tuned) | 1129 | 12s |\n",
    "|Xgboost (no tuning) | 1199 | 27s |\n",
    "|Xgboost (tuned)| 1149 | 44s |\n",
    "|Catboost (no tuning) | 1141 | 24s |\n",
    "|Catboost (tuned)| 1122| 38s|"
   ]
  }
 ],
 "metadata": {
  "kernelspec": {
   "display_name": "Python 3",
   "language": "python",
   "name": "python3"
  },
  "language_info": {
   "codemirror_mode": {
    "name": "ipython",
    "version": 3
   },
   "file_extension": ".py",
   "mimetype": "text/x-python",
   "name": "python",
   "nbconvert_exporter": "python",
   "pygments_lexer": "ipython3",
   "version": "3.7.1"
  }
 },
 "nbformat": 4,
 "nbformat_minor": 4
}
